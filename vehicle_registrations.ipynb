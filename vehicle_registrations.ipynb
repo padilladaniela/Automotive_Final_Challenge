{
 "cells": [
  {
   "cell_type": "code",
   "execution_count": 1,
   "metadata": {},
   "outputs": [],
   "source": [
    "import pandas as pd\n",
    "import numpy as np"
   ]
  },
  {
   "cell_type": "code",
   "execution_count": 2,
   "metadata": {},
   "outputs": [],
   "source": [
    "#Files to load\n",
    "vehicle_registration = \"Vehicle_Registrations.csv\""
   ]
  },
  {
   "cell_type": "code",
   "execution_count": 3,
   "metadata": {},
   "outputs": [],
   "source": [
    "vehicle_registration_df = pd.read_csv(vehicle_registration)\n",
    "\n"
   ]
  },
  {
   "cell_type": "code",
   "execution_count": 4,
   "metadata": {},
   "outputs": [
    {
     "data": {
      "text/plain": [
       "Record Type             11429936\n",
       "VIN                     11429929\n",
       "Registration Class      11429936\n",
       "City                    11429936\n",
       "State                   11429936\n",
       "Zip                     11429936\n",
       "County                  11429936\n",
       "Model Year              11429936\n",
       "Make                    11429933\n",
       "Body Type               11429936\n",
       "Fuel Type               11429936\n",
       "Unladen Weight           9658227\n",
       "Maximum Gross Weight     1541464\n",
       "Passengers                230103\n",
       "Reg Valid Date          11429936\n",
       "Reg Expiration Date     11236151\n",
       "Color                   11429936\n",
       "Scofflaw Indicator      11429936\n",
       "Suspension Indicator    11429936\n",
       "Revocation Indicator    11429936\n",
       "dtype: int64"
      ]
     },
     "execution_count": 4,
     "metadata": {},
     "output_type": "execute_result"
    }
   ],
   "source": [
    "vehicle_registration_df.count()\n"
   ]
  },
  {
   "cell_type": "code",
   "execution_count": 5,
   "metadata": {},
   "outputs": [
    {
     "data": {
      "text/plain": [
       "Record Type              object\n",
       "VIN                      object\n",
       "Registration Class       object\n",
       "City                     object\n",
       "State                    object\n",
       "Zip                       int64\n",
       "County                   object\n",
       "Model Year                int64\n",
       "Make                     object\n",
       "Body Type                object\n",
       "Fuel Type                object\n",
       "Unladen Weight          float64\n",
       "Maximum Gross Weight    float64\n",
       "Passengers              float64\n",
       "Reg Valid Date           object\n",
       "Reg Expiration Date      object\n",
       "Color                    object\n",
       "Scofflaw Indicator       object\n",
       "Suspension Indicator     object\n",
       "Revocation Indicator     object\n",
       "dtype: object"
      ]
     },
     "execution_count": 5,
     "metadata": {},
     "output_type": "execute_result"
    }
   ],
   "source": [
    "vehicle_registration_df.dtypes\n",
    "\n",
    "#Notes that character/string columns appear as ‘object’ datatypes."
   ]
  },
  {
   "cell_type": "code",
   "execution_count": 6,
   "metadata": {},
   "outputs": [
    {
     "data": {
      "text/html": [
       "<div>\n",
       "<style scoped>\n",
       "    .dataframe tbody tr th:only-of-type {\n",
       "        vertical-align: middle;\n",
       "    }\n",
       "\n",
       "    .dataframe tbody tr th {\n",
       "        vertical-align: top;\n",
       "    }\n",
       "\n",
       "    .dataframe thead th {\n",
       "        text-align: right;\n",
       "    }\n",
       "</style>\n",
       "<table border=\"1\" class=\"dataframe\">\n",
       "  <thead>\n",
       "    <tr style=\"text-align: right;\">\n",
       "      <th></th>\n",
       "      <th>Record Type</th>\n",
       "      <th>VIN</th>\n",
       "      <th>Registration Class</th>\n",
       "      <th>City</th>\n",
       "      <th>State</th>\n",
       "      <th>Zip</th>\n",
       "      <th>County</th>\n",
       "      <th>Model Year</th>\n",
       "      <th>Make</th>\n",
       "      <th>Body Type</th>\n",
       "      <th>Fuel Type</th>\n",
       "      <th>Unladen Weight</th>\n",
       "      <th>Maximum Gross Weight</th>\n",
       "      <th>Passengers</th>\n",
       "      <th>Reg Valid Date</th>\n",
       "      <th>Reg Expiration Date</th>\n",
       "      <th>Color</th>\n",
       "      <th>Scofflaw Indicator</th>\n",
       "      <th>Suspension Indicator</th>\n",
       "      <th>Revocation Indicator</th>\n",
       "    </tr>\n",
       "  </thead>\n",
       "  <tbody>\n",
       "    <tr>\n",
       "      <th>5</th>\n",
       "      <td>VEH</td>\n",
       "      <td>99795N</td>\n",
       "      <td>HIS</td>\n",
       "      <td>GARDEN CITY</td>\n",
       "      <td>NY</td>\n",
       "      <td>11530</td>\n",
       "      <td>NASSAU</td>\n",
       "      <td>1948</td>\n",
       "      <td>OLDSM</td>\n",
       "      <td>CONV</td>\n",
       "      <td>GAS</td>\n",
       "      <td>4157.0</td>\n",
       "      <td>NaN</td>\n",
       "      <td>NaN</td>\n",
       "      <td>01/22/2021</td>\n",
       "      <td>02/01/2022</td>\n",
       "      <td>YW/BK</td>\n",
       "      <td>N</td>\n",
       "      <td>N</td>\n",
       "      <td>N</td>\n",
       "    </tr>\n",
       "    <tr>\n",
       "      <th>6</th>\n",
       "      <td>VEH</td>\n",
       "      <td>99786012447</td>\n",
       "      <td>HIS</td>\n",
       "      <td>BROOKLYN</td>\n",
       "      <td>NY</td>\n",
       "      <td>11231</td>\n",
       "      <td>KINGS</td>\n",
       "      <td>1978</td>\n",
       "      <td>SAAB</td>\n",
       "      <td>2DSD</td>\n",
       "      <td>GAS</td>\n",
       "      <td>2560.0</td>\n",
       "      <td>NaN</td>\n",
       "      <td>NaN</td>\n",
       "      <td>06/28/2021</td>\n",
       "      <td>08/08/2022</td>\n",
       "      <td>GY</td>\n",
       "      <td>N</td>\n",
       "      <td>N</td>\n",
       "      <td>N</td>\n",
       "    </tr>\n",
       "    <tr>\n",
       "      <th>16</th>\n",
       "      <td>VEH</td>\n",
       "      <td>997450</td>\n",
       "      <td>HIS</td>\n",
       "      <td>CAMPBELL HALL</td>\n",
       "      <td>NY</td>\n",
       "      <td>10916</td>\n",
       "      <td>ORANGE</td>\n",
       "      <td>1949</td>\n",
       "      <td>PLYMO</td>\n",
       "      <td>4DSD</td>\n",
       "      <td>GAS</td>\n",
       "      <td>3107.0</td>\n",
       "      <td>NaN</td>\n",
       "      <td>NaN</td>\n",
       "      <td>01/21/2021</td>\n",
       "      <td>04/11/2022</td>\n",
       "      <td>BL</td>\n",
       "      <td>N</td>\n",
       "      <td>N</td>\n",
       "      <td>N</td>\n",
       "    </tr>\n",
       "    <tr>\n",
       "      <th>17</th>\n",
       "      <td>VEH</td>\n",
       "      <td>99742025652</td>\n",
       "      <td>HIS</td>\n",
       "      <td>BROOKLYN</td>\n",
       "      <td>NY</td>\n",
       "      <td>11231</td>\n",
       "      <td>KINGS</td>\n",
       "      <td>1974</td>\n",
       "      <td>SAAB</td>\n",
       "      <td>2DSD</td>\n",
       "      <td>GAS</td>\n",
       "      <td>2532.0</td>\n",
       "      <td>NaN</td>\n",
       "      <td>NaN</td>\n",
       "      <td>06/28/2021</td>\n",
       "      <td>08/01/2022</td>\n",
       "      <td>OR</td>\n",
       "      <td>N</td>\n",
       "      <td>N</td>\n",
       "      <td>N</td>\n",
       "    </tr>\n",
       "    <tr>\n",
       "      <th>20</th>\n",
       "      <td>VEH</td>\n",
       "      <td>997374</td>\n",
       "      <td>HIS</td>\n",
       "      <td>LEICESTER</td>\n",
       "      <td>NY</td>\n",
       "      <td>14481</td>\n",
       "      <td>LIVINGSTON</td>\n",
       "      <td>1915</td>\n",
       "      <td>FORD</td>\n",
       "      <td>2DSD</td>\n",
       "      <td>GAS</td>\n",
       "      <td>4256.0</td>\n",
       "      <td>NaN</td>\n",
       "      <td>NaN</td>\n",
       "      <td>08/21/2020</td>\n",
       "      <td>08/22/2021</td>\n",
       "      <td>BK</td>\n",
       "      <td>N</td>\n",
       "      <td>N</td>\n",
       "      <td>N</td>\n",
       "    </tr>\n",
       "    <tr>\n",
       "      <th>...</th>\n",
       "      <td>...</td>\n",
       "      <td>...</td>\n",
       "      <td>...</td>\n",
       "      <td>...</td>\n",
       "      <td>...</td>\n",
       "      <td>...</td>\n",
       "      <td>...</td>\n",
       "      <td>...</td>\n",
       "      <td>...</td>\n",
       "      <td>...</td>\n",
       "      <td>...</td>\n",
       "      <td>...</td>\n",
       "      <td>...</td>\n",
       "      <td>...</td>\n",
       "      <td>...</td>\n",
       "      <td>...</td>\n",
       "      <td>...</td>\n",
       "      <td>...</td>\n",
       "      <td>...</td>\n",
       "      <td>...</td>\n",
       "    </tr>\n",
       "    <tr>\n",
       "      <th>11429925</th>\n",
       "      <td>VEH</td>\n",
       "      <td>AAB1L722375</td>\n",
       "      <td>HIS</td>\n",
       "      <td>COLD SPRNG HBR</td>\n",
       "      <td>NY</td>\n",
       "      <td>11724</td>\n",
       "      <td>SUFFOLK</td>\n",
       "      <td>1965</td>\n",
       "      <td>MUKE</td>\n",
       "      <td>CONV</td>\n",
       "      <td>GAS</td>\n",
       "      <td>2100.0</td>\n",
       "      <td>NaN</td>\n",
       "      <td>NaN</td>\n",
       "      <td>04/01/2021</td>\n",
       "      <td>06/23/2022</td>\n",
       "      <td>WH</td>\n",
       "      <td>N</td>\n",
       "      <td>N</td>\n",
       "      <td>N</td>\n",
       "    </tr>\n",
       "    <tr>\n",
       "      <th>11429926</th>\n",
       "      <td>VEH</td>\n",
       "      <td>AABIL1164299A</td>\n",
       "      <td>HIS</td>\n",
       "      <td>VICTOR</td>\n",
       "      <td>NY</td>\n",
       "      <td>14564</td>\n",
       "      <td>ONTARIO</td>\n",
       "      <td>1964</td>\n",
       "      <td>AUSTI</td>\n",
       "      <td>CONV</td>\n",
       "      <td>GAS</td>\n",
       "      <td>1204.0</td>\n",
       "      <td>NaN</td>\n",
       "      <td>NaN</td>\n",
       "      <td>06/14/2021</td>\n",
       "      <td>07/11/2022</td>\n",
       "      <td>YW</td>\n",
       "      <td>N</td>\n",
       "      <td>N</td>\n",
       "      <td>N</td>\n",
       "    </tr>\n",
       "    <tr>\n",
       "      <th>11429927</th>\n",
       "      <td>VEH</td>\n",
       "      <td>AAA688102</td>\n",
       "      <td>HIS</td>\n",
       "      <td>CANAJOHARIE</td>\n",
       "      <td>NY</td>\n",
       "      <td>13317</td>\n",
       "      <td>MONTGOMERY</td>\n",
       "      <td>1931</td>\n",
       "      <td>FORD</td>\n",
       "      <td>2DSD</td>\n",
       "      <td>GAS</td>\n",
       "      <td>1800.0</td>\n",
       "      <td>NaN</td>\n",
       "      <td>NaN</td>\n",
       "      <td>05/18/2021</td>\n",
       "      <td>06/20/2022</td>\n",
       "      <td>GY</td>\n",
       "      <td>N</td>\n",
       "      <td>N</td>\n",
       "      <td>N</td>\n",
       "    </tr>\n",
       "    <tr>\n",
       "      <th>11429929</th>\n",
       "      <td>VEH</td>\n",
       "      <td>NaN</td>\n",
       "      <td>HIS</td>\n",
       "      <td>STERLING</td>\n",
       "      <td>NY</td>\n",
       "      <td>13156</td>\n",
       "      <td>CAYUGA</td>\n",
       "      <td>1966</td>\n",
       "      <td>FORD</td>\n",
       "      <td>PICK</td>\n",
       "      <td>GAS</td>\n",
       "      <td>7500.0</td>\n",
       "      <td>NaN</td>\n",
       "      <td>NaN</td>\n",
       "      <td>06/21/2021</td>\n",
       "      <td>06/16/2022</td>\n",
       "      <td>RD</td>\n",
       "      <td>N</td>\n",
       "      <td>N</td>\n",
       "      <td>N</td>\n",
       "    </tr>\n",
       "    <tr>\n",
       "      <th>11429931</th>\n",
       "      <td>VEH</td>\n",
       "      <td>NaN</td>\n",
       "      <td>HIS</td>\n",
       "      <td>BUFFALO</td>\n",
       "      <td>NY</td>\n",
       "      <td>14216</td>\n",
       "      <td>ERIE</td>\n",
       "      <td>1966</td>\n",
       "      <td>FORD</td>\n",
       "      <td>2DSD</td>\n",
       "      <td>GAS</td>\n",
       "      <td>2500.0</td>\n",
       "      <td>NaN</td>\n",
       "      <td>NaN</td>\n",
       "      <td>09/25/2020</td>\n",
       "      <td>09/20/2021</td>\n",
       "      <td>WH</td>\n",
       "      <td>N</td>\n",
       "      <td>N</td>\n",
       "      <td>N</td>\n",
       "    </tr>\n",
       "  </tbody>\n",
       "</table>\n",
       "<p>41432 rows × 20 columns</p>\n",
       "</div>"
      ],
      "text/plain": [
       "         Record Type            VIN Registration Class            City State  \\\n",
       "5                VEH         99795N                HIS     GARDEN CITY    NY   \n",
       "6                VEH    99786012447                HIS        BROOKLYN    NY   \n",
       "16               VEH         997450                HIS   CAMPBELL HALL    NY   \n",
       "17               VEH    99742025652                HIS        BROOKLYN    NY   \n",
       "20               VEH         997374                HIS       LEICESTER    NY   \n",
       "...              ...            ...                ...             ...   ...   \n",
       "11429925         VEH    AAB1L722375                HIS  COLD SPRNG HBR    NY   \n",
       "11429926         VEH  AABIL1164299A                HIS          VICTOR    NY   \n",
       "11429927         VEH      AAA688102                HIS     CANAJOHARIE    NY   \n",
       "11429929         VEH            NaN                HIS        STERLING    NY   \n",
       "11429931         VEH            NaN                HIS         BUFFALO    NY   \n",
       "\n",
       "            Zip      County  Model Year   Make Body Type Fuel Type  \\\n",
       "5         11530      NASSAU        1948  OLDSM      CONV       GAS   \n",
       "6         11231       KINGS        1978   SAAB      2DSD       GAS   \n",
       "16        10916      ORANGE        1949  PLYMO      4DSD       GAS   \n",
       "17        11231       KINGS        1974   SAAB      2DSD       GAS   \n",
       "20        14481  LIVINGSTON        1915   FORD      2DSD       GAS   \n",
       "...         ...         ...         ...    ...       ...       ...   \n",
       "11429925  11724     SUFFOLK        1965   MUKE      CONV       GAS   \n",
       "11429926  14564     ONTARIO        1964  AUSTI      CONV       GAS   \n",
       "11429927  13317  MONTGOMERY        1931   FORD      2DSD       GAS   \n",
       "11429929  13156      CAYUGA        1966   FORD      PICK       GAS   \n",
       "11429931  14216        ERIE        1966   FORD      2DSD       GAS   \n",
       "\n",
       "          Unladen Weight  Maximum Gross Weight  Passengers Reg Valid Date  \\\n",
       "5                 4157.0                   NaN         NaN     01/22/2021   \n",
       "6                 2560.0                   NaN         NaN     06/28/2021   \n",
       "16                3107.0                   NaN         NaN     01/21/2021   \n",
       "17                2532.0                   NaN         NaN     06/28/2021   \n",
       "20                4256.0                   NaN         NaN     08/21/2020   \n",
       "...                  ...                   ...         ...            ...   \n",
       "11429925          2100.0                   NaN         NaN     04/01/2021   \n",
       "11429926          1204.0                   NaN         NaN     06/14/2021   \n",
       "11429927          1800.0                   NaN         NaN     05/18/2021   \n",
       "11429929          7500.0                   NaN         NaN     06/21/2021   \n",
       "11429931          2500.0                   NaN         NaN     09/25/2020   \n",
       "\n",
       "         Reg Expiration Date  Color Scofflaw Indicator Suspension Indicator  \\\n",
       "5                 02/01/2022  YW/BK                  N                    N   \n",
       "6                 08/08/2022     GY                  N                    N   \n",
       "16                04/11/2022     BL                  N                    N   \n",
       "17                08/01/2022     OR                  N                    N   \n",
       "20                08/22/2021     BK                  N                    N   \n",
       "...                      ...    ...                ...                  ...   \n",
       "11429925          06/23/2022     WH                  N                    N   \n",
       "11429926          07/11/2022     YW                  N                    N   \n",
       "11429927          06/20/2022     GY                  N                    N   \n",
       "11429929          06/16/2022     RD                  N                    N   \n",
       "11429931          09/20/2021     WH                  N                    N   \n",
       "\n",
       "         Revocation Indicator  \n",
       "5                           N  \n",
       "6                           N  \n",
       "16                          N  \n",
       "17                          N  \n",
       "20                          N  \n",
       "...                       ...  \n",
       "11429925                    N  \n",
       "11429926                    N  \n",
       "11429927                    N  \n",
       "11429929                    N  \n",
       "11429931                    N  \n",
       "\n",
       "[41432 rows x 20 columns]"
      ]
     },
     "execution_count": 6,
     "metadata": {},
     "output_type": "execute_result"
    }
   ],
   "source": [
    "vehicle_registration_df[vehicle_registration_df[\"Registration Class\"] == \"HIS\"]"
   ]
  },
  {
   "cell_type": "code",
   "execution_count": 7,
   "metadata": {},
   "outputs": [],
   "source": [
    "# Delete the rows with label \"HIS\"\n",
    "# For label-based deletion, set the index first on the dataframe:\n",
    "#vehicle_registration_df = vehicle_registration_df.drop(\"HIS\", axis=0)\n",
    "\n",
    "#vehicle_registration_df\n",
    "\n",
    "#vehicle_registration_df[vehicle_registration_df[\"Registration Class\"] == \"HIS\"]\n",
    "\n",
    "vehicle_registration_df = vehicle_registration_df.drop(columns=\"Unladen Weight\")\n"
   ]
  },
  {
   "cell_type": "code",
   "execution_count": 8,
   "metadata": {},
   "outputs": [],
   "source": [
    "vehicle_registration_df = vehicle_registration_df.drop(columns=\"Maximum Gross Weight\")\n"
   ]
  },
  {
   "cell_type": "code",
   "execution_count": 9,
   "metadata": {},
   "outputs": [],
   "source": [
    "vehicle_registration_df = vehicle_registration_df.drop(columns=\"Passengers\")\n"
   ]
  },
  {
   "cell_type": "code",
   "execution_count": 10,
   "metadata": {},
   "outputs": [],
   "source": [
    "vehicle_registration_df = vehicle_registration_df.drop(columns=\"Scofflaw Indicator\")\n"
   ]
  },
  {
   "cell_type": "code",
   "execution_count": 11,
   "metadata": {},
   "outputs": [],
   "source": [
    "vehicle_registration_df = vehicle_registration_df.drop(columns=\"Suspension Indicator\")\n"
   ]
  },
  {
   "cell_type": "code",
   "execution_count": 12,
   "metadata": {},
   "outputs": [],
   "source": [
    "vehicle_registration_df = vehicle_registration_df.drop(columns=\"Revocation Indicator\")"
   ]
  },
  {
   "cell_type": "code",
   "execution_count": 13,
   "metadata": {},
   "outputs": [
    {
     "data": {
      "text/plain": [
       "Record Type            11429936\n",
       "VIN                    11429929\n",
       "Registration Class     11429936\n",
       "City                   11429936\n",
       "State                  11429936\n",
       "Zip                    11429936\n",
       "County                 11429936\n",
       "Model Year             11429936\n",
       "Make                   11429933\n",
       "Body Type              11429936\n",
       "Fuel Type              11429936\n",
       "Reg Valid Date         11429936\n",
       "Reg Expiration Date    11236151\n",
       "Color                  11429936\n",
       "dtype: int64"
      ]
     },
     "execution_count": 13,
     "metadata": {},
     "output_type": "execute_result"
    }
   ],
   "source": [
    "vehicle_registration_df.count()\n"
   ]
  },
  {
   "cell_type": "code",
   "execution_count": 14,
   "metadata": {},
   "outputs": [],
   "source": [
    "vehicle_registration_df = vehicle_registration_df.set_index(\"Registration Class\")\n",
    "vehicle_registration_df = vehicle_registration_df.drop(\"HIS\", axis=0, inplace=False)\n",
    "\n"
   ]
  },
  {
   "cell_type": "code",
   "execution_count": 15,
   "metadata": {},
   "outputs": [
    {
     "data": {
      "text/plain": [
       "Record Type            11388504\n",
       "VIN                    11388499\n",
       "City                   11388504\n",
       "State                  11388504\n",
       "Zip                    11388504\n",
       "County                 11388504\n",
       "Model Year             11388504\n",
       "Make                   11388501\n",
       "Body Type              11388504\n",
       "Fuel Type              11388504\n",
       "Reg Valid Date         11388504\n",
       "Reg Expiration Date    11194719\n",
       "Color                  11388504\n",
       "dtype: int64"
      ]
     },
     "execution_count": 15,
     "metadata": {},
     "output_type": "execute_result"
    }
   ],
   "source": [
    "vehicle_registration_df.count()\n",
    "\n"
   ]
  },
  {
   "cell_type": "code",
   "execution_count": 17,
   "metadata": {},
   "outputs": [],
   "source": [
    "vehicle_registration_df = vehicle_registration_df.drop(\"MOT\", axis=0, inplace=False)\n",
    "\n"
   ]
  },
  {
   "cell_type": "code",
   "execution_count": 18,
   "metadata": {},
   "outputs": [
    {
     "data": {
      "text/plain": [
       "Record Type            11074133\n",
       "VIN                    11074128\n",
       "City                   11074133\n",
       "State                  11074133\n",
       "Zip                    11074133\n",
       "County                 11074133\n",
       "Model Year             11074133\n",
       "Make                   11074132\n",
       "Body Type              11074133\n",
       "Fuel Type              11074133\n",
       "Reg Valid Date         11074133\n",
       "Reg Expiration Date    10880348\n",
       "Color                  11074133\n",
       "dtype: int64"
      ]
     },
     "execution_count": 18,
     "metadata": {},
     "output_type": "execute_result"
    }
   ],
   "source": [
    "vehicle_registration_df.count()\n"
   ]
  },
  {
   "cell_type": "code",
   "execution_count": 19,
   "metadata": {},
   "outputs": [],
   "source": [
    "vehicle_registration_df = vehicle_registration_df.drop(\"PSD\", axis=0, inplace=False)\n"
   ]
  },
  {
   "cell_type": "code",
   "execution_count": 20,
   "metadata": {},
   "outputs": [],
   "source": [
    "vehicle_registration_df = vehicle_registration_df.drop(\"COM\", axis=0, inplace=False)\n"
   ]
  },
  {
   "cell_type": "code",
   "execution_count": 21,
   "metadata": {},
   "outputs": [],
   "source": [
    "vehicle_registration_df = vehicle_registration_df.drop(\"SPC\", axis=0, inplace=False)\n"
   ]
  },
  {
   "cell_type": "code",
   "execution_count": 22,
   "metadata": {},
   "outputs": [
    {
     "data": {
      "text/plain": [
       "Record Type            10170328\n",
       "VIN                    10170324\n",
       "City                   10170328\n",
       "State                  10170328\n",
       "Zip                    10170328\n",
       "County                 10170328\n",
       "Model Year             10170328\n",
       "Make                   10170327\n",
       "Body Type              10170328\n",
       "Fuel Type              10170328\n",
       "Reg Valid Date         10170328\n",
       "Reg Expiration Date    10147630\n",
       "Color                  10170328\n",
       "dtype: int64"
      ]
     },
     "execution_count": 22,
     "metadata": {},
     "output_type": "execute_result"
    }
   ],
   "source": [
    "vehicle_registration_df.count()\n"
   ]
  },
  {
   "cell_type": "code",
   "execution_count": 23,
   "metadata": {},
   "outputs": [],
   "source": [
    "vehicle_registration_df = vehicle_registration_df.drop(\"SRF\", axis=0, inplace=False)\n"
   ]
  },
  {
   "cell_type": "code",
   "execution_count": null,
   "metadata": {},
   "outputs": [],
   "source": [
    "vehicle_registration_df = vehicle_registration_df.drop(\"ORG\", axis=0, inplace=False)\n"
   ]
  },
  {
   "cell_type": "code",
   "execution_count": 24,
   "metadata": {},
   "outputs": [
    {
     "data": {
      "text/plain": [
       "Record Type            9938236\n",
       "VIN                    9938234\n",
       "City                   9938236\n",
       "State                  9938236\n",
       "Zip                    9938236\n",
       "County                 9938236\n",
       "Model Year             9938236\n",
       "Make                   9938235\n",
       "Body Type              9938236\n",
       "Fuel Type              9938236\n",
       "Reg Valid Date         9938236\n",
       "Reg Expiration Date    9915538\n",
       "Color                  9938236\n",
       "dtype: int64"
      ]
     },
     "execution_count": 24,
     "metadata": {},
     "output_type": "execute_result"
    }
   ],
   "source": [
    "vehicle_registration_df.count()\n"
   ]
  },
  {
   "cell_type": "code",
   "execution_count": 25,
   "metadata": {},
   "outputs": [],
   "source": [
    "vehicle_registration_df = vehicle_registration_df.drop(\"FAR\", axis=0, inplace=False)\n"
   ]
  },
  {
   "cell_type": "code",
   "execution_count": 27,
   "metadata": {},
   "outputs": [],
   "source": [
    "vehicle_registration_df.to_csv('Vehicle_registration_Update.csv', index = False)\n"
   ]
  },
  {
   "cell_type": "code",
   "execution_count": null,
   "metadata": {},
   "outputs": [],
   "source": []
  }
 ],
 "metadata": {
  "kernelspec": {
   "display_name": "PythondData",
   "language": "python",
   "name": "pythonddata"
  },
  "language_info": {
   "codemirror_mode": {
    "name": "ipython",
    "version": 3
   },
   "file_extension": ".py",
   "mimetype": "text/x-python",
   "name": "python",
   "nbconvert_exporter": "python",
   "pygments_lexer": "ipython3",
   "version": "3.7.10"
  }
 },
 "nbformat": 4,
 "nbformat_minor": 4
}
