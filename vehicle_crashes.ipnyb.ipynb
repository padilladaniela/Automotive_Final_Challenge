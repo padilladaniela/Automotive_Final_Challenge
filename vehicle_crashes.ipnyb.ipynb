{
 "cells": [
  {
   "cell_type": "code",
   "execution_count": 1,
   "metadata": {},
   "outputs": [],
   "source": [
    "import pandas as pd\n",
    "import numpy as np"
   ]
  },
  {
   "cell_type": "code",
   "execution_count": 2,
   "metadata": {},
   "outputs": [],
   "source": [
    "#Files to load\n",
    "vehicle_crashes = \"Resources/Motor_Vehicle_Crashes_-_Vehicle_Information__Three_Year_Window (2) (1).csv\""
   ]
  },
  {
   "cell_type": "code",
   "execution_count": 3,
   "metadata": {},
   "outputs": [],
   "source": [
    "vehicle_crashes_df = pd.read_csv(vehicle_crashes)\n"
   ]
  },
  {
   "cell_type": "code",
   "execution_count": 4,
   "metadata": {},
   "outputs": [
    {
     "data": {
      "text/plain": [
       "Year                                 1648853\n",
       "Case Vehicle ID                      1648853\n",
       "Vehicle Body Type                    1648853\n",
       "Registration Class                   1648853\n",
       "Action Prior to Accident             1648853\n",
       "Type / Axles of Truck or Bus         1648853\n",
       "Direction of Travel                  1648853\n",
       "Fuel Type                            1648853\n",
       "Vehicle Year                         1376105\n",
       "State of Registration                1524749\n",
       "Number of Occupants                  1517540\n",
       "Engine Cylinders                     1297963\n",
       "Vehicle Make                         1377587\n",
       "Contributing Factor 1                1648853\n",
       "Contributing Factor 1 Description    1648853\n",
       "Contributing Factor 2                1648853\n",
       "Contributing Factor 2 Description    1648853\n",
       "Event Type                           1618642\n",
       "Partial VIN                          1345784\n",
       "dtype: int64"
      ]
     },
     "execution_count": 4,
     "metadata": {},
     "output_type": "execute_result"
    }
   ],
   "source": [
    "vehicle_crashes_df.count()\n"
   ]
  },
  {
   "cell_type": "code",
   "execution_count": 5,
   "metadata": {},
   "outputs": [],
   "source": [
    "vehicle_crashes_df=vehicle_crashes_df.drop_duplicates(subset=['Case Vehicle ID'])"
   ]
  },
  {
   "cell_type": "code",
   "execution_count": 6,
   "metadata": {},
   "outputs": [
    {
     "data": {
      "text/plain": [
       "Year                                 1648849\n",
       "Case Vehicle ID                      1648849\n",
       "Vehicle Body Type                    1648849\n",
       "Registration Class                   1648849\n",
       "Action Prior to Accident             1648849\n",
       "Type / Axles of Truck or Bus         1648849\n",
       "Direction of Travel                  1648849\n",
       "Fuel Type                            1648849\n",
       "Vehicle Year                         1376103\n",
       "State of Registration                1524745\n",
       "Number of Occupants                  1517536\n",
       "Engine Cylinders                     1297961\n",
       "Vehicle Make                         1377585\n",
       "Contributing Factor 1                1648849\n",
       "Contributing Factor 1 Description    1648849\n",
       "Contributing Factor 2                1648849\n",
       "Contributing Factor 2 Description    1648849\n",
       "Event Type                           1618638\n",
       "Partial VIN                          1345782\n",
       "dtype: int64"
      ]
     },
     "execution_count": 6,
     "metadata": {},
     "output_type": "execute_result"
    }
   ],
   "source": [
    "vehicle_crashes_df.count()\n"
   ]
  },
  {
   "cell_type": "code",
   "execution_count": 8,
   "metadata": {},
   "outputs": [
    {
     "data": {
      "text/plain": [
       "Year                                   int64\n",
       "Case Vehicle ID                        int64\n",
       "Vehicle Body Type                     object\n",
       "Registration Class                    object\n",
       "Action Prior to Accident              object\n",
       "Type / Axles of Truck or Bus          object\n",
       "Direction of Travel                   object\n",
       "Fuel Type                             object\n",
       "Vehicle Year                         float64\n",
       "State of Registration                 object\n",
       "Number of Occupants                  float64\n",
       "Engine Cylinders                     float64\n",
       "Vehicle Make                          object\n",
       "Contributing Factor 1                 object\n",
       "Contributing Factor 1 Description     object\n",
       "Contributing Factor 2                 object\n",
       "Contributing Factor 2 Description     object\n",
       "Event Type                            object\n",
       "Partial VIN                           object\n",
       "dtype: object"
      ]
     },
     "metadata": {},
     "output_type": "display_data"
    }
   ],
   "source": [
    "display(vehicle_crashes_df.dtypes)\n"
   ]
  },
  {
   "cell_type": "code",
   "execution_count": 12,
   "metadata": {},
   "outputs": [],
   "source": [
    "vehicle_crashes_df = vehicle_crashes_df.fillna(0)\n",
    "#vehicle_crashes_df.birth_year.astype(int)\n"
   ]
  },
  {
   "cell_type": "code",
   "execution_count": 13,
   "metadata": {},
   "outputs": [],
   "source": [
    "vehicle_crashes_df['Number of Occupants'] = vehicle_crashes_df['Number of Occupants'].astype(int)\n"
   ]
  },
  {
   "cell_type": "code",
   "execution_count": 14,
   "metadata": {},
   "outputs": [],
   "source": [
    "vehicle_crashes_df['Engine Cylinders'] = vehicle_crashes_df['Engine Cylinders'].astype(int)\n"
   ]
  },
  {
   "cell_type": "code",
   "execution_count": 15,
   "metadata": {},
   "outputs": [],
   "source": [
    "vehicle_crashes_df.to_csv('Vehicle_Crash_Update.csv', index = False)\n"
   ]
  },
  {
   "cell_type": "code",
   "execution_count": null,
   "metadata": {},
   "outputs": [],
   "source": [
    "#vehicle_crashes_df.dropna(how='all')\n"
   ]
  },
  {
   "cell_type": "code",
   "execution_count": null,
   "metadata": {},
   "outputs": [],
   "source": [
    "# converting 'Weight' from float to int\n",
    "#vehicle_crashes_df['Number of Occupants'] = vehicle_crashes_df['Number of Occupants'].astype(int)\n",
    "  "
   ]
  },
  {
   "cell_type": "code",
   "execution_count": null,
   "metadata": {},
   "outputs": [],
   "source": []
  }
 ],
 "metadata": {
  "kernelspec": {
   "display_name": "PythondData",
   "language": "python",
   "name": "pythonddata"
  },
  "language_info": {
   "codemirror_mode": {
    "name": "ipython",
    "version": 3
   },
   "file_extension": ".py",
   "mimetype": "text/x-python",
   "name": "python",
   "nbconvert_exporter": "python",
   "pygments_lexer": "ipython3",
   "version": "3.7.10"
  }
 },
 "nbformat": 4,
 "nbformat_minor": 4
}
