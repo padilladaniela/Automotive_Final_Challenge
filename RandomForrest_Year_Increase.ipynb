{
 "cells": [
  {
   "cell_type": "code",
   "execution_count": 1,
   "id": "df6957e9",
   "metadata": {},
   "outputs": [],
   "source": [
    "# Initial imports.\n",
    "import pandas as pd\n",
    "from path import Path\n",
    "from sklearn.ensemble import RandomForestClassifier\n",
    "from sklearn.preprocessing import StandardScaler\n",
    "from sklearn.model_selection import train_test_split\n",
    "from sklearn.metrics import confusion_matrix, accuracy_score, classification_report"
   ]
  },
  {
   "cell_type": "code",
   "execution_count": 14,
   "id": "362415e9",
   "metadata": {},
   "outputs": [
    {
     "data": {
      "text/html": [
       "<div>\n",
       "<style scoped>\n",
       "    .dataframe tbody tr th:only-of-type {\n",
       "        vertical-align: middle;\n",
       "    }\n",
       "\n",
       "    .dataframe tbody tr th {\n",
       "        vertical-align: top;\n",
       "    }\n",
       "\n",
       "    .dataframe thead th {\n",
       "        text-align: right;\n",
       "    }\n",
       "</style>\n",
       "<table border=\"1\" class=\"dataframe\">\n",
       "  <thead>\n",
       "    <tr style=\"text-align: right;\">\n",
       "      <th></th>\n",
       "      <th>Year</th>\n",
       "      <th>Case Vehicle ID</th>\n",
       "      <th>Vehicle Body Type</th>\n",
       "      <th>Registration Class</th>\n",
       "      <th>Action Prior to Accident</th>\n",
       "      <th>Type / Axles of Truck or Bus</th>\n",
       "      <th>Direction of Travel</th>\n",
       "      <th>Fuel Type</th>\n",
       "      <th>Vehicle Year</th>\n",
       "      <th>State of Registration</th>\n",
       "      <th>Number of Occupants</th>\n",
       "      <th>Engine Cylinders</th>\n",
       "      <th>Vehicle Make</th>\n",
       "      <th>Contributing Factor 1</th>\n",
       "      <th>Contributing Factor 1 Description</th>\n",
       "      <th>Contributing Factor 2</th>\n",
       "      <th>Contributing Factor 2 Description</th>\n",
       "      <th>Event Type</th>\n",
       "      <th>Partial VIN</th>\n",
       "    </tr>\n",
       "  </thead>\n",
       "  <tbody>\n",
       "    <tr>\n",
       "      <th>0</th>\n",
       "      <td>2018</td>\n",
       "      <td>15232120</td>\n",
       "      <td>VAN TRUCK</td>\n",
       "      <td>AGRICULTURAL TRUCK</td>\n",
       "      <td>Parked</td>\n",
       "      <td>Not Entered</td>\n",
       "      <td>North</td>\n",
       "      <td>Gas</td>\n",
       "      <td>2015.0</td>\n",
       "      <td>NY</td>\n",
       "      <td>0.0</td>\n",
       "      <td>4.0</td>\n",
       "      <td>NISSA</td>\n",
       "      <td>HUMAN</td>\n",
       "      <td>Not Entered</td>\n",
       "      <td>HUMAN</td>\n",
       "      <td>Not Entered</td>\n",
       "      <td>Not Entered</td>\n",
       "      <td>3N6CM0KN2FK713460</td>\n",
       "    </tr>\n",
       "    <tr>\n",
       "      <th>1</th>\n",
       "      <td>2018</td>\n",
       "      <td>15232535</td>\n",
       "      <td>SUBURBAN</td>\n",
       "      <td>PASSENGER OR SUBURBAN</td>\n",
       "      <td>Making U Turn</td>\n",
       "      <td>Not Entered</td>\n",
       "      <td>South</td>\n",
       "      <td>Gas</td>\n",
       "      <td>2015.0</td>\n",
       "      <td>NY</td>\n",
       "      <td>1.0</td>\n",
       "      <td>6.0</td>\n",
       "      <td>HONDA</td>\n",
       "      <td>HUMAN</td>\n",
       "      <td>Not Entered</td>\n",
       "      <td>HUMAN</td>\n",
       "      <td>Unknown</td>\n",
       "      <td>Not Entered</td>\n",
       "      <td>5J6TF2H55FL001556</td>\n",
       "    </tr>\n",
       "    <tr>\n",
       "      <th>2</th>\n",
       "      <td>2018</td>\n",
       "      <td>15232536</td>\n",
       "      <td>SEDAN</td>\n",
       "      <td>Not Entered</td>\n",
       "      <td>Going Straight Ahead</td>\n",
       "      <td>Not Entered</td>\n",
       "      <td>North</td>\n",
       "      <td>Not Entered</td>\n",
       "      <td>NaN</td>\n",
       "      <td>PA</td>\n",
       "      <td>1.0</td>\n",
       "      <td>NaN</td>\n",
       "      <td>NaN</td>\n",
       "      <td>HUMAN</td>\n",
       "      <td>Not Entered</td>\n",
       "      <td>HUMAN</td>\n",
       "      <td>Unknown</td>\n",
       "      <td>Not Entered</td>\n",
       "      <td>NaN</td>\n",
       "    </tr>\n",
       "    <tr>\n",
       "      <th>3</th>\n",
       "      <td>2018</td>\n",
       "      <td>15232557</td>\n",
       "      <td>4 DOOR SEDAN</td>\n",
       "      <td>PASSENGER OR SUBURBAN</td>\n",
       "      <td>Parked</td>\n",
       "      <td>Not Entered</td>\n",
       "      <td>South</td>\n",
       "      <td>Gas</td>\n",
       "      <td>2013.0</td>\n",
       "      <td>NY</td>\n",
       "      <td>5.0</td>\n",
       "      <td>4.0</td>\n",
       "      <td>NISSA</td>\n",
       "      <td>HUMAN</td>\n",
       "      <td>Passenger Distraction</td>\n",
       "      <td>VEHICLE</td>\n",
       "      <td>Other*</td>\n",
       "      <td>Not Entered</td>\n",
       "      <td>1N4AL3AP8DC229156</td>\n",
       "    </tr>\n",
       "    <tr>\n",
       "      <th>4</th>\n",
       "      <td>2018</td>\n",
       "      <td>15232556</td>\n",
       "      <td>SUBURBAN</td>\n",
       "      <td>PASSENGER OR SUBURBAN</td>\n",
       "      <td>Going Straight Ahead</td>\n",
       "      <td>Not Entered</td>\n",
       "      <td>South</td>\n",
       "      <td>Gas</td>\n",
       "      <td>2009.0</td>\n",
       "      <td>NY</td>\n",
       "      <td>2.0</td>\n",
       "      <td>8.0</td>\n",
       "      <td>CADIL</td>\n",
       "      <td>HUMAN</td>\n",
       "      <td>Not Applicable</td>\n",
       "      <td>HUMAN</td>\n",
       "      <td>Not Applicable</td>\n",
       "      <td>Not Entered</td>\n",
       "      <td>3GYFK22209G213337</td>\n",
       "    </tr>\n",
       "  </tbody>\n",
       "</table>\n",
       "</div>"
      ],
      "text/plain": [
       "   Year  Case Vehicle ID Vehicle Body Type     Registration Class  \\\n",
       "0  2018         15232120         VAN TRUCK     AGRICULTURAL TRUCK   \n",
       "1  2018         15232535          SUBURBAN  PASSENGER OR SUBURBAN   \n",
       "2  2018         15232536             SEDAN            Not Entered   \n",
       "3  2018         15232557      4 DOOR SEDAN  PASSENGER OR SUBURBAN   \n",
       "4  2018         15232556          SUBURBAN  PASSENGER OR SUBURBAN   \n",
       "\n",
       "  Action Prior to Accident Type / Axles of Truck or Bus Direction of Travel  \\\n",
       "0                   Parked                  Not Entered               North   \n",
       "1            Making U Turn                  Not Entered               South   \n",
       "2     Going Straight Ahead                  Not Entered               North   \n",
       "3                   Parked                  Not Entered               South   \n",
       "4     Going Straight Ahead                  Not Entered               South   \n",
       "\n",
       "     Fuel Type  Vehicle Year State of Registration  Number of Occupants  \\\n",
       "0          Gas        2015.0                    NY                  0.0   \n",
       "1          Gas        2015.0                    NY                  1.0   \n",
       "2  Not Entered           NaN                    PA                  1.0   \n",
       "3          Gas        2013.0                    NY                  5.0   \n",
       "4          Gas        2009.0                    NY                  2.0   \n",
       "\n",
       "   Engine Cylinders Vehicle Make Contributing Factor 1  \\\n",
       "0               4.0        NISSA                 HUMAN   \n",
       "1               6.0        HONDA                 HUMAN   \n",
       "2               NaN          NaN                 HUMAN   \n",
       "3               4.0        NISSA                 HUMAN   \n",
       "4               8.0        CADIL                 HUMAN   \n",
       "\n",
       "  Contributing Factor 1 Description Contributing Factor 2  \\\n",
       "0                       Not Entered                 HUMAN   \n",
       "1                       Not Entered                 HUMAN   \n",
       "2                       Not Entered                 HUMAN   \n",
       "3             Passenger Distraction               VEHICLE   \n",
       "4                    Not Applicable                 HUMAN   \n",
       "\n",
       "  Contributing Factor 2 Description   Event Type        Partial VIN  \n",
       "0                       Not Entered  Not Entered  3N6CM0KN2FK713460  \n",
       "1                           Unknown  Not Entered  5J6TF2H55FL001556  \n",
       "2                           Unknown  Not Entered                NaN  \n",
       "3                            Other*  Not Entered  1N4AL3AP8DC229156  \n",
       "4                    Not Applicable  Not Entered  3GYFK22209G213337  "
      ]
     },
     "execution_count": 14,
     "metadata": {},
     "output_type": "execute_result"
    }
   ],
   "source": [
    "# Import and read the charity_data.csv.\n",
    "\n",
    "import pandas as pd \n",
    "motor_df = pd.read_csv('Resources/Motor_Vehicle_Crashes_-_Vehicle_Information__Three_Year_Window.csv')\n",
    "motor_df.head()"
   ]
  },
  {
   "cell_type": "markdown",
   "id": "7e88d522",
   "metadata": {},
   "source": [
    "Cleaning the Data for processing\n"
   ]
  },
  {
   "cell_type": "code",
   "execution_count": 15,
   "id": "cd835442",
   "metadata": {},
   "outputs": [],
   "source": [
    "# Drop all NA from rows\n",
    "\n",
    "motor_df = motor_df.dropna()"
   ]
  },
  {
   "cell_type": "code",
   "execution_count": 16,
   "id": "d5661eb0",
   "metadata": {},
   "outputs": [],
   "source": [
    "# Get Names for indexs for which Contributing Factor  1 Description 1 is Not Entered\n",
    "# Drop these rows\n",
    "\n",
    "not_entered = motor_df[motor_df['Contributing Factor 1 Description'] == 'Not Entered'].index\n",
    "motor_df.drop(not_entered, inplace = True)"
   ]
  },
  {
   "cell_type": "code",
   "execution_count": 17,
   "id": "c971e41a",
   "metadata": {},
   "outputs": [],
   "source": [
    "# Get Names for indexs for which Contributing Factor  1 Description 1 is Not applicable\n",
    "# Drop these rows\n",
    "\n",
    "not_app = motor_df[motor_df['Contributing Factor 1 Description'] == 'Not Applicable'].index\n",
    "motor_df.drop(not_app, inplace = True)"
   ]
  },
  {
   "cell_type": "code",
   "execution_count": 18,
   "id": "a969b947",
   "metadata": {},
   "outputs": [],
   "source": [
    "# Get Names for index for which Contributing Factor 1 Description is Unknown\n",
    "# Drop these rows\n",
    "\n",
    "unknown = motor_df[motor_df['Contributing Factor 1 Description'] == 'Unknown'].index\n",
    "motor_df.drop(unknown, inplace = True)"
   ]
  },
  {
   "cell_type": "code",
   "execution_count": 19,
   "id": "12d2f745",
   "metadata": {},
   "outputs": [],
   "source": [
    "# Get unknown values in direction of travel\n",
    "# Drop these rows\n",
    "\n",
    "unknown2 = motor_df[motor_df['Direction of Travel'] == 'Unknown'].index\n",
    "motor_df.drop(unknown2, inplace = True)"
   ]
  },
  {
   "cell_type": "code",
   "execution_count": 20,
   "id": "dfb881a7",
   "metadata": {},
   "outputs": [],
   "source": [
    "# Get Not Applicable in Direction of Travel and drop these rows\n",
    "\n",
    "not_app = motor_df[motor_df['Direction of Travel'] == 'Not Applicable'].index\n",
    "motor_df.drop(not_app, inplace = True)"
   ]
  },
  {
   "cell_type": "code",
   "execution_count": 21,
   "id": "72cdad92",
   "metadata": {},
   "outputs": [
    {
     "data": {
      "text/plain": [
       "TOYOT    57239\n",
       "HONDA    46095\n",
       "CHEVR    44133\n",
       "FORD     44126\n",
       "NISSA    35334\n",
       "Other    33098\n",
       "JEEP     21089\n",
       "HYUND    18128\n",
       "DODGE    16350\n",
       "SUBAR    13317\n",
       "KIA       9343\n",
       "GMC       8263\n",
       "BMW       8175\n",
       "ME/BE     7529\n",
       "VOLKS     7428\n",
       "CHRYS     7369\n",
       "LEXUS     5752\n",
       "ACURA     5745\n",
       "MAZDA     5685\n",
       "RAM       4640\n",
       "BUICK     4562\n",
       "INFIN     4461\n",
       "MITSU     3586\n",
       "AUDI      3495\n",
       "CADIL     3133\n",
       "Name: Vehicle Make, dtype: int64"
      ]
     },
     "execution_count": 21,
     "metadata": {},
     "output_type": "execute_result"
    }
   ],
   "source": [
    "# Looking at the Vehicle Make column\n",
    "motor_count = motor_df['Vehicle Make'].value_counts()\n",
    "\n",
    "# Determine which values to replace if counts are less than 5000\n",
    "replace_Vehicle = list(motor_count[motor_count < 3000].index)\n",
    "replace_Vehicle\n",
    "\n",
    "# Replace in dataframe\n",
    "for car in replace_Vehicle:\n",
    "    motor_df[\"Vehicle Make\"] = motor_df[\"Vehicle Make\"].replace(car,\"Other\")\n",
    "    \n",
    "# Check to make sure binning was successful\n",
    "motor_df['Vehicle Make'].value_counts()"
   ]
  },
  {
   "cell_type": "code",
   "execution_count": 22,
   "id": "1b43b454",
   "metadata": {},
   "outputs": [
    {
     "data": {
      "text/plain": [
       "PASSENGER OR SUBURBAN         347712\n",
       "OMNIBUS - TAXI                 20924\n",
       "AGRICULTURAL TRUCK             14251\n",
       "Other                          10599\n",
       "COMMERCIAL                      9818\n",
       "SPECIAL PASSENGER               5611\n",
       "POLITICAL SUBDIVISION           4352\n",
       "MOTORCYCLE                      2771\n",
       "INTERNATIONAL REGISTRATION      2037\n",
       "Name: Registration Class, dtype: int64"
      ]
     },
     "execution_count": 22,
     "metadata": {},
     "output_type": "execute_result"
    }
   ],
   "source": [
    "# Look at Regristration Class value counts for binning\n",
    "class_count = motor_df['Registration Class'].value_counts()\n",
    "\n",
    "\n",
    "# Determine which values to replace if counts are less than 4000\n",
    "replace_class = list(class_count[class_count < 2000].index)\n",
    "\n",
    "# Replace in dataframe\n",
    "for Class in replace_class:\n",
    "    motor_df['Registration Class'] = motor_df['Registration Class'].replace(Class,\"Other\")\n",
    "    \n",
    "# Check to make sure binning was successful\n",
    "motor_df['Registration Class'].value_counts()"
   ]
  },
  {
   "cell_type": "code",
   "execution_count": 23,
   "id": "07223991",
   "metadata": {},
   "outputs": [
    {
     "data": {
      "text/plain": [
       "Going Straight Ahead        243029\n",
       "Making Left Turn             46153\n",
       "Backing                      23642\n",
       "Slowing or Stopping          22816\n",
       "Making Right Turn            21186\n",
       "Changing Lanes               20355\n",
       "Starting in Traffic           7221\n",
       "Merging                       5984\n",
       "Other                         5926\n",
       "Starting from Parking         5644\n",
       "Overtaking/Passing            4366\n",
       "Making U Turn                 4236\n",
       "Entering Parked Position      3154\n",
       "Stopped in Traffic            2309\n",
       "Parked                        2054\n",
       "Name: Action Prior to Accident, dtype: int64"
      ]
     },
     "execution_count": 23,
     "metadata": {},
     "output_type": "execute_result"
    }
   ],
   "source": [
    "# Action Prior to accident\n",
    "actions = motor_df['Action Prior to Accident'].value_counts()\n",
    "\n",
    "# Determine which values to replace if counts are less than 4000\n",
    "replace_action = list(actions[actions < 2000].index)\n",
    "\n",
    "# Replace in dataframe\n",
    "for action in replace_action:\n",
    "    motor_df['Action Prior to Accident'] = motor_df['Action Prior to Accident'].replace(action,\"Other\")\n",
    "    \n",
    "# Check to make sure binning was successful\n",
    "motor_df['Action Prior to Accident'].value_counts()"
   ]
  },
  {
   "cell_type": "code",
   "execution_count": 24,
   "id": "769fdabb",
   "metadata": {},
   "outputs": [],
   "source": [
    "# Drop the non-beneficial ID columns, 'EIN' and 'NAME','Contributing Factor 1 Description'\n",
    "# and 'Contributing Factor 2 Description'.\n",
    "\n",
    "motor_df = motor_df.drop(['Case Vehicle ID', 'Partial VIN', 'Contributing Factor 2','Contributing Factor 2 Description'], axis=1)"
   ]
  },
  {
   "cell_type": "markdown",
   "id": "78fcb079",
   "metadata": {},
   "source": [
    "Selecting features for the model"
   ]
  },
  {
   "cell_type": "code",
   "execution_count": 13,
   "id": "a2b3c194",
   "metadata": {},
   "outputs": [],
   "source": [
    "# Create our target\n",
    "y = motor_df.Year \n",
    "\n",
    "# Create our features\n",
    "X = motor_df.drop(columns = 'Year')\n",
    "#X = pd.get_dummies(X)"
   ]
  },
  {
   "cell_type": "code",
   "execution_count": 25,
   "id": "abcc550d",
   "metadata": {},
   "outputs": [],
   "source": [
    "# Splitting into Train and Test sets.\n",
    "X_train, X_test, y_train, y_test = train_test_split(X, y, random_state=78)"
   ]
  },
  {
   "cell_type": "code",
   "execution_count": 26,
   "id": "c456c4fc",
   "metadata": {},
   "outputs": [],
   "source": [
    "# Creating a StandardScaler instance.\n",
    "scaler = StandardScaler()\n",
    "# Fitting the Standard Scaler with the training data.\n",
    "X_scaler = scaler.fit(X_train)\n",
    "\n",
    "# Scaling the data.\n",
    "X_train_scaled = X_scaler.transform(X_train)\n",
    "X_test_scaled = X_scaler.transform(X_test)"
   ]
  },
  {
   "cell_type": "markdown",
   "id": "59da60a7",
   "metadata": {},
   "source": [
    "Training The Model"
   ]
  },
  {
   "cell_type": "code",
   "execution_count": 27,
   "id": "65b2e3cf",
   "metadata": {},
   "outputs": [],
   "source": [
    "# Create a random forest classifier.\n",
    "rf_model = RandomForestClassifier(n_estimators=128, random_state=78) "
   ]
  },
  {
   "cell_type": "code",
   "execution_count": 28,
   "id": "2edf388c",
   "metadata": {},
   "outputs": [],
   "source": [
    "# Fitting the model\n",
    "rf_model = rf_model.fit(X_train_scaled, y_train)"
   ]
  },
  {
   "cell_type": "code",
   "execution_count": 29,
   "id": "e85b87f6",
   "metadata": {},
   "outputs": [],
   "source": [
    "# Making predictions using the testing data.\n",
    "predictions = rf_model.predict(X_test_scaled)"
   ]
  },
  {
   "cell_type": "code",
   "execution_count": null,
   "id": "4ffb1083",
   "metadata": {},
   "outputs": [],
   "source": [
    "Showing the results"
   ]
  },
  {
   "cell_type": "code",
   "execution_count": 30,
   "id": "3ecf087e",
   "metadata": {},
   "outputs": [
    {
     "data": {
      "text/html": [
       "<div>\n",
       "<style scoped>\n",
       "    .dataframe tbody tr th:only-of-type {\n",
       "        vertical-align: middle;\n",
       "    }\n",
       "\n",
       "    .dataframe tbody tr th {\n",
       "        vertical-align: top;\n",
       "    }\n",
       "\n",
       "    .dataframe thead th {\n",
       "        text-align: right;\n",
       "    }\n",
       "</style>\n",
       "<table border=\"1\" class=\"dataframe\">\n",
       "  <thead>\n",
       "    <tr style=\"text-align: right;\">\n",
       "      <th></th>\n",
       "      <th>Predicted 0</th>\n",
       "      <th>Predicted 1</th>\n",
       "    </tr>\n",
       "  </thead>\n",
       "  <tbody>\n",
       "    <tr>\n",
       "      <th>Actual 0</th>\n",
       "      <td>6455</td>\n",
       "      <td>18836</td>\n",
       "    </tr>\n",
       "    <tr>\n",
       "      <th>Actual 1</th>\n",
       "      <td>9634</td>\n",
       "      <td>69594</td>\n",
       "    </tr>\n",
       "  </tbody>\n",
       "</table>\n",
       "</div>"
      ],
      "text/plain": [
       "          Predicted 0  Predicted 1\n",
       "Actual 0         6455        18836\n",
       "Actual 1         9634        69594"
      ]
     },
     "execution_count": 30,
     "metadata": {},
     "output_type": "execute_result"
    }
   ],
   "source": [
    "# Calculating the confusion matrix.\n",
    "cm = confusion_matrix(y_test, predictions)\n",
    "\n",
    "# Create a DataFrame from the confusion matrix.\n",
    "cm_df = pd.DataFrame(\n",
    "    cm, index=[\"Actual 0\", \"Actual 1\"], columns=[\"Predicted 0\", \"Predicted 1\"])\n",
    "\n",
    "cm_df"
   ]
  },
  {
   "cell_type": "code",
   "execution_count": 31,
   "id": "22277f94",
   "metadata": {},
   "outputs": [],
   "source": [
    "# Calculating the accuracy score.\n",
    "acc_score = accuracy_score(y_test, predictions)"
   ]
  },
  {
   "cell_type": "code",
   "execution_count": 32,
   "id": "6643074e",
   "metadata": {},
   "outputs": [
    {
     "name": "stdout",
     "output_type": "stream",
     "text": [
      "Confusion Matrix\n"
     ]
    },
    {
     "data": {
      "text/html": [
       "<div>\n",
       "<style scoped>\n",
       "    .dataframe tbody tr th:only-of-type {\n",
       "        vertical-align: middle;\n",
       "    }\n",
       "\n",
       "    .dataframe tbody tr th {\n",
       "        vertical-align: top;\n",
       "    }\n",
       "\n",
       "    .dataframe thead th {\n",
       "        text-align: right;\n",
       "    }\n",
       "</style>\n",
       "<table border=\"1\" class=\"dataframe\">\n",
       "  <thead>\n",
       "    <tr style=\"text-align: right;\">\n",
       "      <th></th>\n",
       "      <th>Predicted 0</th>\n",
       "      <th>Predicted 1</th>\n",
       "    </tr>\n",
       "  </thead>\n",
       "  <tbody>\n",
       "    <tr>\n",
       "      <th>Actual 0</th>\n",
       "      <td>6455</td>\n",
       "      <td>18836</td>\n",
       "    </tr>\n",
       "    <tr>\n",
       "      <th>Actual 1</th>\n",
       "      <td>9634</td>\n",
       "      <td>69594</td>\n",
       "    </tr>\n",
       "  </tbody>\n",
       "</table>\n",
       "</div>"
      ],
      "text/plain": [
       "          Predicted 0  Predicted 1\n",
       "Actual 0         6455        18836\n",
       "Actual 1         9634        69594"
      ]
     },
     "metadata": {},
     "output_type": "display_data"
    },
    {
     "name": "stdout",
     "output_type": "stream",
     "text": [
      "Accuracy Score : 0.7276093341880424\n",
      "Classification Report\n",
      "              precision    recall  f1-score   support\n",
      "\n",
      "        2018       0.40      0.26      0.31     25291\n",
      "        2019       0.79      0.88      0.83     79228\n",
      "\n",
      "    accuracy                           0.73    104519\n",
      "   macro avg       0.59      0.57      0.57    104519\n",
      "weighted avg       0.69      0.73      0.70    104519\n",
      "\n"
     ]
    }
   ],
   "source": [
    "# Displaying results\n",
    "print(\"Confusion Matrix\")\n",
    "display(cm_df)\n",
    "print(f\"Accuracy Score : {acc_score}\")\n",
    "print(\"Classification Report\")\n",
    "print(classification_report(y_test, predictions))"
   ]
  },
  {
   "cell_type": "code",
   "execution_count": null,
   "id": "1e54c96a",
   "metadata": {},
   "outputs": [],
   "source": []
  }
 ],
 "metadata": {
  "kernelspec": {
   "display_name": "mlenv",
   "language": "python",
   "name": "mlenv"
  },
  "language_info": {
   "codemirror_mode": {
    "name": "ipython",
    "version": 3
   },
   "file_extension": ".py",
   "mimetype": "text/x-python",
   "name": "python",
   "nbconvert_exporter": "python",
   "pygments_lexer": "ipython3",
   "version": "3.7.10"
  }
 },
 "nbformat": 4,
 "nbformat_minor": 5
}
