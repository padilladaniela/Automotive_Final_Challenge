{
 "cells": [
  {
   "cell_type": "code",
   "execution_count": 2,
   "id": "e6e9668b",
   "metadata": {},
   "outputs": [],
   "source": [
    "import warnings\n",
    "warnings.filterwarnings('ignore')"
   ]
  },
  {
   "cell_type": "code",
   "execution_count": 3,
   "id": "8e36b937",
   "metadata": {},
   "outputs": [],
   "source": [
    "import numpy as np\n",
    "import pandas as pd\n",
    "from pathlib import Path\n",
    "from collections import Counter"
   ]
  },
  {
   "cell_type": "code",
   "execution_count": 19,
   "id": "8ecaea78",
   "metadata": {
    "scrolled": true
   },
   "outputs": [
    {
     "data": {
      "text/html": [
       "<div>\n",
       "<style scoped>\n",
       "    .dataframe tbody tr th:only-of-type {\n",
       "        vertical-align: middle;\n",
       "    }\n",
       "\n",
       "    .dataframe tbody tr th {\n",
       "        vertical-align: top;\n",
       "    }\n",
       "\n",
       "    .dataframe thead th {\n",
       "        text-align: right;\n",
       "    }\n",
       "</style>\n",
       "<table border=\"1\" class=\"dataframe\">\n",
       "  <thead>\n",
       "    <tr style=\"text-align: right;\">\n",
       "      <th></th>\n",
       "      <th>Year</th>\n",
       "      <th>Case Vehicle ID</th>\n",
       "      <th>Vehicle Body Type</th>\n",
       "      <th>Registration Class</th>\n",
       "      <th>Action Prior to Accident</th>\n",
       "      <th>Type / Axles of Truck or Bus</th>\n",
       "      <th>Direction of Travel</th>\n",
       "      <th>Fuel Type</th>\n",
       "      <th>Vehicle Year</th>\n",
       "      <th>State of Registration</th>\n",
       "      <th>Number of Occupants</th>\n",
       "      <th>Engine Cylinders</th>\n",
       "      <th>Vehicle Make</th>\n",
       "      <th>Contributing Factor 1</th>\n",
       "      <th>Contributing Factor 1 Description</th>\n",
       "      <th>Contributing Factor 2</th>\n",
       "      <th>Contributing Factor 2 Description</th>\n",
       "      <th>Event Type</th>\n",
       "      <th>Partial VIN</th>\n",
       "    </tr>\n",
       "  </thead>\n",
       "  <tbody>\n",
       "    <tr>\n",
       "      <th>0</th>\n",
       "      <td>2018</td>\n",
       "      <td>15232120</td>\n",
       "      <td>VAN TRUCK</td>\n",
       "      <td>AGRICULTURAL TRUCK</td>\n",
       "      <td>Parked</td>\n",
       "      <td>Not Entered</td>\n",
       "      <td>North</td>\n",
       "      <td>Gas</td>\n",
       "      <td>2015.0</td>\n",
       "      <td>NY</td>\n",
       "      <td>0.0</td>\n",
       "      <td>4.0</td>\n",
       "      <td>NISSA</td>\n",
       "      <td>HUMAN</td>\n",
       "      <td>Not Entered</td>\n",
       "      <td>HUMAN</td>\n",
       "      <td>Not Entered</td>\n",
       "      <td>Not Entered</td>\n",
       "      <td>3N6CM0KN2FK713460</td>\n",
       "    </tr>\n",
       "    <tr>\n",
       "      <th>1</th>\n",
       "      <td>2018</td>\n",
       "      <td>15232535</td>\n",
       "      <td>SUBURBAN</td>\n",
       "      <td>PASSENGER OR SUBURBAN</td>\n",
       "      <td>Making U Turn</td>\n",
       "      <td>Not Entered</td>\n",
       "      <td>South</td>\n",
       "      <td>Gas</td>\n",
       "      <td>2015.0</td>\n",
       "      <td>NY</td>\n",
       "      <td>1.0</td>\n",
       "      <td>6.0</td>\n",
       "      <td>HONDA</td>\n",
       "      <td>HUMAN</td>\n",
       "      <td>Not Entered</td>\n",
       "      <td>HUMAN</td>\n",
       "      <td>Unknown</td>\n",
       "      <td>Not Entered</td>\n",
       "      <td>5J6TF2H55FL001556</td>\n",
       "    </tr>\n",
       "    <tr>\n",
       "      <th>2</th>\n",
       "      <td>2018</td>\n",
       "      <td>15232536</td>\n",
       "      <td>SEDAN</td>\n",
       "      <td>Not Entered</td>\n",
       "      <td>Going Straight Ahead</td>\n",
       "      <td>Not Entered</td>\n",
       "      <td>North</td>\n",
       "      <td>Not Entered</td>\n",
       "      <td>NaN</td>\n",
       "      <td>PA</td>\n",
       "      <td>1.0</td>\n",
       "      <td>NaN</td>\n",
       "      <td>NaN</td>\n",
       "      <td>HUMAN</td>\n",
       "      <td>Not Entered</td>\n",
       "      <td>HUMAN</td>\n",
       "      <td>Unknown</td>\n",
       "      <td>Not Entered</td>\n",
       "      <td>NaN</td>\n",
       "    </tr>\n",
       "    <tr>\n",
       "      <th>3</th>\n",
       "      <td>2018</td>\n",
       "      <td>15232557</td>\n",
       "      <td>4 DOOR SEDAN</td>\n",
       "      <td>PASSENGER OR SUBURBAN</td>\n",
       "      <td>Parked</td>\n",
       "      <td>Not Entered</td>\n",
       "      <td>South</td>\n",
       "      <td>Gas</td>\n",
       "      <td>2013.0</td>\n",
       "      <td>NY</td>\n",
       "      <td>5.0</td>\n",
       "      <td>4.0</td>\n",
       "      <td>NISSA</td>\n",
       "      <td>HUMAN</td>\n",
       "      <td>Passenger Distraction</td>\n",
       "      <td>VEHICLE</td>\n",
       "      <td>Other*</td>\n",
       "      <td>Not Entered</td>\n",
       "      <td>1N4AL3AP8DC229156</td>\n",
       "    </tr>\n",
       "    <tr>\n",
       "      <th>4</th>\n",
       "      <td>2018</td>\n",
       "      <td>15232556</td>\n",
       "      <td>SUBURBAN</td>\n",
       "      <td>PASSENGER OR SUBURBAN</td>\n",
       "      <td>Going Straight Ahead</td>\n",
       "      <td>Not Entered</td>\n",
       "      <td>South</td>\n",
       "      <td>Gas</td>\n",
       "      <td>2009.0</td>\n",
       "      <td>NY</td>\n",
       "      <td>2.0</td>\n",
       "      <td>8.0</td>\n",
       "      <td>CADIL</td>\n",
       "      <td>HUMAN</td>\n",
       "      <td>Not Applicable</td>\n",
       "      <td>HUMAN</td>\n",
       "      <td>Not Applicable</td>\n",
       "      <td>Not Entered</td>\n",
       "      <td>3GYFK22209G213337</td>\n",
       "    </tr>\n",
       "  </tbody>\n",
       "</table>\n",
       "</div>"
      ],
      "text/plain": [
       "   Year  Case Vehicle ID Vehicle Body Type     Registration Class  \\\n",
       "0  2018         15232120         VAN TRUCK     AGRICULTURAL TRUCK   \n",
       "1  2018         15232535          SUBURBAN  PASSENGER OR SUBURBAN   \n",
       "2  2018         15232536             SEDAN            Not Entered   \n",
       "3  2018         15232557      4 DOOR SEDAN  PASSENGER OR SUBURBAN   \n",
       "4  2018         15232556          SUBURBAN  PASSENGER OR SUBURBAN   \n",
       "\n",
       "  Action Prior to Accident Type / Axles of Truck or Bus Direction of Travel  \\\n",
       "0                   Parked                  Not Entered               North   \n",
       "1            Making U Turn                  Not Entered               South   \n",
       "2     Going Straight Ahead                  Not Entered               North   \n",
       "3                   Parked                  Not Entered               South   \n",
       "4     Going Straight Ahead                  Not Entered               South   \n",
       "\n",
       "     Fuel Type  Vehicle Year State of Registration  Number of Occupants  \\\n",
       "0          Gas        2015.0                    NY                  0.0   \n",
       "1          Gas        2015.0                    NY                  1.0   \n",
       "2  Not Entered           NaN                    PA                  1.0   \n",
       "3          Gas        2013.0                    NY                  5.0   \n",
       "4          Gas        2009.0                    NY                  2.0   \n",
       "\n",
       "   Engine Cylinders Vehicle Make Contributing Factor 1  \\\n",
       "0               4.0        NISSA                 HUMAN   \n",
       "1               6.0        HONDA                 HUMAN   \n",
       "2               NaN          NaN                 HUMAN   \n",
       "3               4.0        NISSA                 HUMAN   \n",
       "4               8.0        CADIL                 HUMAN   \n",
       "\n",
       "  Contributing Factor 1 Description Contributing Factor 2  \\\n",
       "0                       Not Entered                 HUMAN   \n",
       "1                       Not Entered                 HUMAN   \n",
       "2                       Not Entered                 HUMAN   \n",
       "3             Passenger Distraction               VEHICLE   \n",
       "4                    Not Applicable                 HUMAN   \n",
       "\n",
       "  Contributing Factor 2 Description   Event Type        Partial VIN  \n",
       "0                       Not Entered  Not Entered  3N6CM0KN2FK713460  \n",
       "1                           Unknown  Not Entered  5J6TF2H55FL001556  \n",
       "2                           Unknown  Not Entered                NaN  \n",
       "3                            Other*  Not Entered  1N4AL3AP8DC229156  \n",
       "4                    Not Applicable  Not Entered  3GYFK22209G213337  "
      ]
     },
     "execution_count": 19,
     "metadata": {},
     "output_type": "execute_result"
    }
   ],
   "source": [
    "# Import and read the charity_data.csv.\n",
    "\n",
    "import pandas as pd \n",
    "motor_df = pd.read_csv('Resources/Motor_Vehicle_Crashes_-_Vehicle_Information__Three_Year_Window.csv')\n",
    "motor_df.head()"
   ]
  },
  {
   "cell_type": "code",
   "execution_count": 20,
   "id": "05ed5a42",
   "metadata": {},
   "outputs": [],
   "source": [
    "# Drop all NA from rows\n",
    "\n",
    "motor_df = motor_df.dropna()"
   ]
  },
  {
   "cell_type": "code",
   "execution_count": 22,
   "id": "94981632",
   "metadata": {},
   "outputs": [],
   "source": [
    "# Get Names for indexs for which Contributing Factor  1 Description 1 is Not Entered\n",
    "# Drop these rows\n",
    "\n",
    "not_entered = motor_df[motor_df['Contributing Factor 1 Description'] == 'Not Entered'].index\n",
    "motor_df.drop(not_entered, inplace = True)"
   ]
  },
  {
   "cell_type": "code",
   "execution_count": 23,
   "id": "1a291ba5",
   "metadata": {},
   "outputs": [],
   "source": [
    "# Get Names for indexs for which Contributing Factor  1 Description 1 is Not applicable\n",
    "# Drop these rows\n",
    "\n",
    "not_app = motor_df[motor_df['Contributing Factor 1 Description'] == 'Not Applicable'].index\n",
    "motor_df.drop(not_app, inplace = True)"
   ]
  },
  {
   "cell_type": "code",
   "execution_count": 24,
   "id": "53c4451b",
   "metadata": {},
   "outputs": [],
   "source": [
    "# Get Names for index for which Contributing Factor 1 Description is Unknown\n",
    "# Drop these rows\n",
    "\n",
    "unknown = motor_df[motor_df['Contributing Factor 1 Description'] == 'Unknown'].index\n",
    "motor_df.drop(unknown, inplace = True)"
   ]
  },
  {
   "cell_type": "code",
   "execution_count": 25,
   "id": "2033646a",
   "metadata": {},
   "outputs": [],
   "source": [
    "# Get unknown values in direction of travel\n",
    "# Drop these rows\n",
    "\n",
    "unknown2 = motor_df[motor_df['Direction of Travel'] == 'Unknown'].index\n",
    "motor_df.drop(unknown2, inplace = True)"
   ]
  },
  {
   "cell_type": "code",
   "execution_count": 26,
   "id": "f4532e3a",
   "metadata": {},
   "outputs": [],
   "source": [
    "# Get Not Applicable in Direction of Travel and drop these rows\n",
    "\n",
    "not_app = motor_df[motor_df['Direction of Travel'] == 'Not Applicable'].index\n",
    "motor_df.drop(not_app, inplace = True)"
   ]
  },
  {
   "cell_type": "code",
   "execution_count": 27,
   "id": "3654876d",
   "metadata": {},
   "outputs": [],
   "source": [
    "# Looking at the Direction of Travel column\n",
    "directions = motor_df['Direction of Travel'].value_counts()\n",
    "directions\n",
    "\n",
    "# Placing the Direction of Travel into Bins\n",
    "replace_direction = list(directions[directions < 12000].index)\n",
    "\n",
    "# Replace in dataframe\n",
    "for direction in replace_direction:\n",
    "    motor_df[\"Direction of Travel\"] = motor_df[\"Direction of Travel\"].replace(direction, \"Other\")"
   ]
  },
  {
   "cell_type": "code",
   "execution_count": 28,
   "id": "9d24d452",
   "metadata": {},
   "outputs": [
    {
     "data": {
      "text/plain": [
       "TOYOT    57239\n",
       "HONDA    46095\n",
       "CHEVR    44133\n",
       "FORD     44126\n",
       "NISSA    35334\n",
       "Other    33098\n",
       "JEEP     21089\n",
       "HYUND    18128\n",
       "DODGE    16350\n",
       "SUBAR    13317\n",
       "KIA       9343\n",
       "GMC       8263\n",
       "BMW       8175\n",
       "ME/BE     7529\n",
       "VOLKS     7428\n",
       "CHRYS     7369\n",
       "LEXUS     5752\n",
       "ACURA     5745\n",
       "MAZDA     5685\n",
       "RAM       4640\n",
       "BUICK     4562\n",
       "INFIN     4461\n",
       "MITSU     3586\n",
       "AUDI      3495\n",
       "CADIL     3133\n",
       "Name: Vehicle Make, dtype: int64"
      ]
     },
     "execution_count": 28,
     "metadata": {},
     "output_type": "execute_result"
    }
   ],
   "source": [
    "# Looking at the Vehicle Make column\n",
    "motor_count = motor_df['Vehicle Make'].value_counts()\n",
    "\n",
    "# Determine which values to replace if counts are less than 5000\n",
    "replace_Vehicle = list(motor_count[motor_count < 3000].index)\n",
    "replace_Vehicle\n",
    "\n",
    "# Replace in dataframe\n",
    "for car in replace_Vehicle:\n",
    "    motor_df[\"Vehicle Make\"] = motor_df[\"Vehicle Make\"].replace(car,\"Other\")\n",
    "    \n",
    "# Check to make sure binning was successful\n",
    "motor_df['Vehicle Make'].value_counts()"
   ]
  },
  {
   "cell_type": "code",
   "execution_count": 29,
   "id": "c98c1943",
   "metadata": {},
   "outputs": [
    {
     "data": {
      "text/plain": [
       "PASSENGER OR SUBURBAN         347712\n",
       "OMNIBUS - TAXI                 20924\n",
       "AGRICULTURAL TRUCK             14251\n",
       "Other                          10599\n",
       "COMMERCIAL                      9818\n",
       "SPECIAL PASSENGER               5611\n",
       "POLITICAL SUBDIVISION           4352\n",
       "MOTORCYCLE                      2771\n",
       "INTERNATIONAL REGISTRATION      2037\n",
       "Name: Registration Class, dtype: int64"
      ]
     },
     "execution_count": 29,
     "metadata": {},
     "output_type": "execute_result"
    }
   ],
   "source": [
    "# Look at Regristration Class value counts for binning\n",
    "class_count = motor_df['Registration Class'].value_counts()\n",
    "\n",
    "\n",
    "# Determine which values to replace if counts are less than 4000\n",
    "replace_class = list(class_count[class_count < 2000].index)\n",
    "\n",
    "# Replace in dataframe\n",
    "for Class in replace_class:\n",
    "    motor_df['Registration Class'] = motor_df['Registration Class'].replace(Class,\"Other\")\n",
    "    \n",
    "# Check to make sure binning was successful\n",
    "motor_df['Registration Class'].value_counts()"
   ]
  },
  {
   "cell_type": "code",
   "execution_count": 30,
   "id": "50b4e0e2",
   "metadata": {},
   "outputs": [
    {
     "data": {
      "text/plain": [
       "Going Straight Ahead        243029\n",
       "Making Left Turn             46153\n",
       "Backing                      23642\n",
       "Slowing or Stopping          22816\n",
       "Making Right Turn            21186\n",
       "Changing Lanes               20355\n",
       "Starting in Traffic           7221\n",
       "Merging                       5984\n",
       "Other                         5926\n",
       "Starting from Parking         5644\n",
       "Overtaking/Passing            4366\n",
       "Making U Turn                 4236\n",
       "Entering Parked Position      3154\n",
       "Stopped in Traffic            2309\n",
       "Parked                        2054\n",
       "Name: Action Prior to Accident, dtype: int64"
      ]
     },
     "execution_count": 30,
     "metadata": {},
     "output_type": "execute_result"
    }
   ],
   "source": [
    "# Action Prior to accident\n",
    "actions = motor_df['Action Prior to Accident'].value_counts()\n",
    "\n",
    "# Determine which values to replace if counts are less than 4000\n",
    "replace_action = list(actions[actions < 2000].index)\n",
    "\n",
    "# Replace in dataframe\n",
    "for action in replace_action:\n",
    "    motor_df['Action Prior to Accident'] = motor_df['Action Prior to Accident'].replace(action,\"Other\")\n",
    "    \n",
    "# Check to make sure binning was successful\n",
    "motor_df['Action Prior to Accident'].value_counts()"
   ]
  },
  {
   "cell_type": "code",
   "execution_count": 31,
   "id": "74279b53",
   "metadata": {},
   "outputs": [],
   "source": [
    "# Drop the non-beneficial ID columns, 'EIN' and 'NAME','Contributing Factor 1 Description'\n",
    "# and 'Contributing Factor 2 Description'.\n",
    "\n",
    "motor_df = motor_df.drop(['Case Vehicle ID', 'Partial VIN', 'Contributing Factor 2','Contributing Factor 2 Description'], axis=1)"
   ]
  },
  {
   "cell_type": "code",
   "execution_count": 33,
   "id": "5d07a9f1",
   "metadata": {},
   "outputs": [],
   "source": [
    "# Create our target\n",
    "y = motor_df.Year \n",
    "\n",
    "# Create our features\n",
    "X = motor_df.drop(columns = 'Year')\n",
    "X = pd.get_dummies(X)"
   ]
  },
  {
   "cell_type": "code",
   "execution_count": 34,
   "id": "78a2b046",
   "metadata": {},
   "outputs": [
    {
     "data": {
      "text/plain": [
       "2019    317161\n",
       "2018    100914\n",
       "Name: Year, dtype: int64"
      ]
     },
     "execution_count": 34,
     "metadata": {},
     "output_type": "execute_result"
    }
   ],
   "source": [
    "y.value_counts()"
   ]
  },
  {
   "cell_type": "code",
   "execution_count": 35,
   "id": "2c4b642d",
   "metadata": {},
   "outputs": [
    {
     "data": {
      "text/plain": [
       "Counter({2018: 75708, 2019: 237848})"
      ]
     },
     "execution_count": 35,
     "metadata": {},
     "output_type": "execute_result"
    }
   ],
   "source": [
    "from sklearn.model_selection import train_test_split\n",
    "X_train, X_test, y_train, y_test = train_test_split(X,y, random_state=1)\n",
    "Counter(y_train)"
   ]
  },
  {
   "cell_type": "code",
   "execution_count": 36,
   "id": "a0b1bdd1",
   "metadata": {},
   "outputs": [],
   "source": [
    "from imblearn.over_sampling import RandomOverSampler\n",
    "ros = RandomOverSampler(random_state=1)\n",
    "X_resampled, y_resampled = ros.fit_resample(X_train, y_train)"
   ]
  },
  {
   "cell_type": "code",
   "execution_count": 37,
   "id": "69467fdc",
   "metadata": {},
   "outputs": [
    {
     "data": {
      "text/plain": [
       "Counter({2018: 237848, 2019: 237848})"
      ]
     },
     "execution_count": 37,
     "metadata": {},
     "output_type": "execute_result"
    }
   ],
   "source": [
    "# Train the Logistic Regression model using the resampled data\n",
    "# YOUR CODE HERE\n",
    "\n",
    "Counter(y_resampled)"
   ]
  },
  {
   "cell_type": "code",
   "execution_count": 38,
   "id": "2206cfac",
   "metadata": {},
   "outputs": [
    {
     "data": {
      "text/plain": [
       "LogisticRegression(random_state=1)"
      ]
     },
     "execution_count": 38,
     "metadata": {},
     "output_type": "execute_result"
    }
   ],
   "source": [
    "from sklearn.linear_model import LogisticRegression\n",
    "\n",
    "# Calculated the balanced accuracy score\n",
    "# YOUR CODE HERE\n",
    "\n",
    "model = LogisticRegression(solver='lbfgs', random_state=1)\n",
    "model.fit(X_resampled, y_resampled)"
   ]
  },
  {
   "cell_type": "code",
   "execution_count": 39,
   "id": "bea84693",
   "metadata": {},
   "outputs": [
    {
     "data": {
      "text/plain": [
       "0.6631717496291716"
      ]
     },
     "execution_count": 39,
     "metadata": {},
     "output_type": "execute_result"
    }
   ],
   "source": [
    "# Calculated the balanced accuracy score\n",
    "# YOUR CODE HERE\n",
    "from sklearn.metrics import balanced_accuracy_score\n",
    "\n",
    "y_pred = model.predict(X_test)\n",
    "balanced_accuracy_score(y_test, y_pred)"
   ]
  },
  {
   "cell_type": "code",
   "execution_count": 40,
   "id": "183e8737",
   "metadata": {},
   "outputs": [
    {
     "data": {
      "text/plain": [
       "array([[16599,  8607],\n",
       "       [26347, 52966]], dtype=int64)"
      ]
     },
     "execution_count": 40,
     "metadata": {},
     "output_type": "execute_result"
    }
   ],
   "source": [
    "from sklearn.metrics import confusion_matrix\n",
    "\n",
    "# Display the confusion matrix\n",
    "# YOUR CODE HERE\n",
    "\n",
    "y_pred = model.predict(X_test)\n",
    "confusion_matrix(y_test, y_pred)"
   ]
  },
  {
   "cell_type": "code",
   "execution_count": 41,
   "id": "9d7f89bf",
   "metadata": {},
   "outputs": [
    {
     "name": "stdout",
     "output_type": "stream",
     "text": [
      "                   pre       rec       spe        f1       geo       iba       sup\n",
      "\n",
      "       2018       0.39      0.66      0.67      0.49      0.66      0.44     25206\n",
      "       2019       0.86      0.67      0.66      0.75      0.66      0.44     79313\n",
      "\n",
      "avg / total       0.75      0.67      0.66      0.69      0.66      0.44    104519\n",
      "\n"
     ]
    }
   ],
   "source": [
    "from imblearn.metrics import classification_report_imbalanced\n",
    "from sklearn.metrics import balanced_accuracy_score\n",
    "\n",
    "# Print the imbalanced classification report\n",
    "# YOUR CODE HERE\n",
    "\n",
    "\n",
    "balanced_accuracy_score(y_test, y_pred)\n",
    "print(classification_report_imbalanced(y_test, y_pred))"
   ]
  }
 ],
 "metadata": {
  "kernelspec": {
   "display_name": "mlenv",
   "language": "python",
   "name": "mlenv"
  },
  "language_info": {
   "codemirror_mode": {
    "name": "ipython",
    "version": 3
   },
   "file_extension": ".py",
   "mimetype": "text/x-python",
   "name": "python",
   "nbconvert_exporter": "python",
   "pygments_lexer": "ipython3",
   "version": "3.7.10"
  }
 },
 "nbformat": 4,
 "nbformat_minor": 5
}
